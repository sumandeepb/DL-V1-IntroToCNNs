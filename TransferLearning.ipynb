{
 "cells": [
  {
   "cell_type": "code",
   "execution_count": null,
   "metadata": {},
   "outputs": [],
   "source": [
    "# import tensorflow module. Check API version.\n",
    "import tensorflow as tf\n",
    "import numpy as np\n",
    "\n",
    "print (tf.__version__)\n",
    "\n",
    "# required for TF to run within docker using GPU (ignore otherwise)\n",
    "gpu = tf.config.experimental.list_physical_devices('GPU')\n",
    "tf.config.experimental.set_memory_growth(gpu[0], True)"
   ]
  },
  {
   "cell_type": "code",
   "execution_count": null,
   "metadata": {},
   "outputs": [],
   "source": [
    "# grab the CIFAR-10 dataset (may take time the first time)\n",
    "print(\"[INFO] downloading CIFAR-10...\")\n",
    "((trainData, trainLabels), (testData, testLabels)) = tf.keras.datasets.cifar10.load_data()"
   ]
  },
  {
   "cell_type": "code",
   "execution_count": null,
   "metadata": {},
   "outputs": [],
   "source": [
    "# parameters for CIFAR-10 data set\n",
    "num_classes = 10\n",
    "image_width = 32\n",
    "image_height = 32\n",
    "image_channels = 3 # CIFAR data is RGB color\n",
    "# define human readable class names\n",
    "class_names = ['airplane', 'automobile', 'bird', 'cat', \n",
    "               'deer', 'dog', 'frog', 'horse', 'ship', 'truck']"
   ]
  },
  {
   "cell_type": "code",
   "execution_count": null,
   "metadata": {},
   "outputs": [],
   "source": [
    "# shape the input data using \"channels last\" ordering\n",
    "# num_samples x rows x columns x depth\n",
    "trainData = trainData.reshape(\n",
    "        (trainData.shape[0], image_height, image_width, image_channels))\n",
    "testData = testData.reshape(\n",
    "        (testData.shape[0], image_height, image_width, image_channels))"
   ]
  },
  {
   "cell_type": "code",
   "execution_count": null,
   "metadata": {},
   "outputs": [],
   "source": [
    "# convert to floating point and scale data to the range of [0.0, 1.0]\n",
    "trainData = trainData.astype(\"float32\") / 255.0\n",
    "testData = testData.astype(\"float32\") / 255.0"
   ]
  },
  {
   "cell_type": "code",
   "execution_count": null,
   "metadata": {},
   "outputs": [],
   "source": [
    "# resize the data to 96X96 for use in inceptionV3 network\n",
    "trainData = tf.image.resize(trainData, [96, 96], 'bicubic')\n",
    "testData = tf.image.resize(testData, [96, 96], 'bicubic')"
   ]
  },
  {
   "cell_type": "code",
   "execution_count": null,
   "metadata": {},
   "outputs": [],
   "source": [
    "# display data dimentions\n",
    "print (\"trainData:\", trainData.shape)\n",
    "print (\"trainLabels:\", trainLabels.shape)\n",
    "print (\"testData:\", testData.shape)\n",
    "print (\"testLabels:\", testLabels.shape)"
   ]
  },
  {
   "cell_type": "code",
   "execution_count": null,
   "metadata": {},
   "outputs": [],
   "source": [
    "# parameters for training data set\n",
    "num_classes = 10\n",
    "image_width = 96\n",
    "image_height = 96\n",
    "image_channels = 3"
   ]
  },
  {
   "cell_type": "code",
   "execution_count": null,
   "metadata": {},
   "outputs": [],
   "source": [
    "from tensorflow.keras.applications.inception_v3 import InceptionV3\n",
    "\n",
    "pre_trained_model = InceptionV3(input_shape = (96, 96, 3),\n",
    "                                include_top = False,\n",
    "                                weights = None)\n",
    "\n",
    "pre_trained_weights_file = '../../data/deep_learning/inception_v3_weights_tf_dim_ordering_tf_kernels_notop.h5'\n",
    "\n",
    "pre_trained_model.load_weights(pre_trained_weights_file)\n",
    "\n",
    "pre_trained_model.trainable = False\n",
    "\n",
    "last_output = pre_trained_model.get_layer('mixed7').output\n",
    "\n",
    "base_model = tf.keras.Model(pre_trained_model.input, last_output)\n",
    "\n",
    "base_model.summary()"
   ]
  },
  {
   "cell_type": "code",
   "execution_count": null,
   "metadata": {},
   "outputs": [],
   "source": [
    "# initialize the model\n",
    "model = tf.keras.Sequential([\n",
    "    base_model,\n",
    "    tf.keras.layers.Flatten(),\n",
    "    tf.keras.layers.Dense(1024, activation='relu'),\n",
    "    tf.keras.layers.Dropout(0.2),\n",
    "    tf.keras.layers.Dense(units=num_classes, activation=tf.nn.softmax)\n",
    "])\n",
    "\n",
    "# compile the model\n",
    "print(\"[INFO] compiling model...\")\n",
    "model.compile(optimizer=tf.keras.optimizers.Adam(),  # Adam optimizer\n",
    "        loss=\"sparse_categorical_crossentropy\",\n",
    "        metrics=[\"accuracy\"])\n",
    "\n",
    "# print model summary\n",
    "model.summary()"
   ]
  },
  {
   "cell_type": "code",
   "execution_count": null,
   "metadata": {},
   "outputs": [],
   "source": [
    "# define callback function for training termination criteria\n",
    "#accuracy_cutoff = 0.99\n",
    "class myCallback(tf.keras.callbacks.Callback):\n",
    "  def on_epoch_end(self, epoch, logs=None):\n",
    "    if(logs.get('val_accuracy') > 0.90):\n",
    "      print(\"\\nReached 90% accuracy so cancelling training!\")\n",
    "      self.model.stop_training = True\n",
    "\n",
    "# initialize training config\n",
    "batch_size = 16\n",
    "epochs = 100\n",
    "\n",
    "# run training\n",
    "print(\"[INFO] training...\")\n",
    "history = model.fit(x=trainData, y=trainLabels, batch_size=batch_size,\n",
    "                    validation_data=(testData, testLabels), epochs=epochs, verbose=1, callbacks=[myCallback()])"
   ]
  },
  {
   "cell_type": "code",
   "execution_count": null,
   "metadata": {},
   "outputs": [],
   "source": []
  }
 ],
 "metadata": {
  "kernelspec": {
   "display_name": "Python 3",
   "language": "python",
   "name": "python3"
  },
  "language_info": {
   "codemirror_mode": {
    "name": "ipython",
    "version": 3
   },
   "file_extension": ".py",
   "mimetype": "text/x-python",
   "name": "python",
   "nbconvert_exporter": "python",
   "pygments_lexer": "ipython3",
   "version": "3.6.9"
  }
 },
 "nbformat": 4,
 "nbformat_minor": 4
}
